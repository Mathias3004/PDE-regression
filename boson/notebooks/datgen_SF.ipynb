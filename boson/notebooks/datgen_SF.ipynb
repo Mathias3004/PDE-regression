{
 "cells": [
  {
   "cell_type": "code",
   "execution_count": 3,
   "metadata": {},
   "outputs": [],
   "source": [
    "# necessary imports\n",
    "\n",
    "import numpy as np\n",
    "import scipy\n",
    "import matplotlib.pyplot as plt\n",
    "import matplotlib\n",
    "import pickle\n",
    "import time\n",
    "\n",
    "from tenpy.networks.mps import MPS\n",
    "from tenpy.models.hubbard import BoseHubbardChain\n",
    "\n",
    "from tenpy.algorithms import dmrg\n",
    "from tenpy.algorithms import tebd\n",
    "from tenpy.algorithms import tdvp\n",
    "\n",
    "# folder to store\n",
    "folder = \"store\""
   ]
  },
  {
   "cell_type": "code",
   "execution_count": 4,
   "metadata": {},
   "outputs": [],
   "source": [
    "# observables to evaluate during time evolution\n",
    "\n",
    "def observables(eng, data):\n",
    "    keys = ['t', 'entropy', 'N', 'B', 'g1', 'g2', 'trunc_err']\n",
    "    if data is None:\n",
    "        data = dict([(k, []) for k in keys])\n",
    "    data['t'].append(eng.evolved_time)\n",
    "    data['entropy'].append(eng.psi.entanglement_entropy())\n",
    "    data['N'].append(eng.psi.expectation_value('N'))\n",
    "    data['g1'].append(eng.psi.correlation_function('Bd', 'B'))\n",
    "    data['g2'].append(eng.psi.correlation_function('N', 'N'))\n",
    "    data['trunc_err'].append(eng.trunc_err.eps)\n",
    "    return data\n",
    "\n",
    "# to save after each time step on drive\n",
    "def save_obj(obj, name ):\n",
    "  with open(folder + name + '.pkl', 'wb') as f:\n",
    "      pickle.dump(obj, f, pickle.HIGHEST_PROTOCOL)"
   ]
  },
  {
   "cell_type": "code",
   "execution_count": 12,
   "metadata": {},
   "outputs": [],
   "source": [
    "# system parameters\n",
    "\n",
    "N_site = 20 # length\n",
    "filling = 1. # occupation\n",
    "bc_MPS = 'infinite'\n",
    "\n",
    "U0 = 0. # initial interaction (for DMRG)\n",
    "U = U0 # interaction after quench (TE)\n",
    "J = 0.5 # tunneling\n",
    "V = 0. # nearest-neighbor interaction\n",
    "mu = 0. # chemical potential\n",
    "\n",
    "# starting potential V0*exp( -(x-x0)**2/sigma**2 )\n",
    "V0 = -0.001\n",
    "x0 = N_site/2.\n",
    "sigma = 0.01*N_site\n",
    "\n",
    "n_max = 7 # maximal occupation\n",
    "\n",
    "# numerical parameters dmrg\n",
    "dmrg_params = {\n",
    "    'trunc_params': {\n",
    "        'chi_max': 300,\n",
    "        'svd_min': 1.e-8,\n",
    "    },\n",
    "    'update_env': 5,\n",
    "    'start_env': 5,\n",
    "    'max_E_err': 0.0001,\n",
    "    'max_S_err': 0.0001,\n",
    "    'max_sweeps': 5, \n",
    "    'mixer': False,\n",
    "\n",
    "}"
   ]
  },
  {
   "cell_type": "code",
   "execution_count": 13,
   "metadata": {},
   "outputs": [
    {
     "name": "stderr",
     "output_type": "stream",
     "text": [
      "<ipython-input-13-7be58f301699>:14: UserWarning: Adding terms to the CouplingMPOModel after initialization. Make sure you call `init_H_from_terms` again! In that case, you can set `self.manually_call_init_H` to supress this warning.\n",
      "  BH0.add_onsite(potential, 0, \"N\", category=None)\n",
      "final DMRG state not in canonical form up to norm_tol=1.00e-05: norm_err=7.12e-05\n"
     ]
    },
    {
     "name": "stdout",
     "output_type": "stream",
     "text": [
      "time elapsed: 823.20s\n"
     ]
    }
   ],
   "source": [
    "# DMRG initial state\n",
    "\n",
    "# number of particles in system\n",
    "N_particle = int(filling*N_site)\n",
    "\n",
    "# the potential\n",
    "x = np.linspace(0,N_site-1,N_site)\n",
    "potential = V0*np.exp( -(x-x0)**2/sigma**2 )\n",
    "\n",
    "# Hamiltonian with J_start = 0\n",
    "model_params = dict(L=N_site, t=J, U=U0, V=V, mu=mu, bc_MPS=bc_MPS, conserve=\"N\", n_max=n_max)\n",
    "BH0 = BoseHubbardChain(model_params)\n",
    "#BH0.n_max = n_max\n",
    "BH0.add_onsite(potential, 0, \"N\", category=None)\n",
    "BH0.init_H_from_terms()\n",
    "\n",
    "# initial state\n",
    "occ = np.zeros(N_site, dtype=\"int\")\n",
    "occ[:N_particle] = 1\n",
    "occ = np.roll(occ,(N_site-N_particle)//2 )\n",
    "psi = MPS.from_product_state(BH0.lat.mps_sites(), occ, bc=BH0.lat.bc_MPS)\n",
    "\n",
    "# TEBD engine\n",
    "#eng = dmrg.DMRGEngine(psi, BH0, dmrg_params)\n",
    "#info = dmrg.run(psi, BH0, dmrg_params)\n",
    "start = time.time()\n",
    "eng = dmrg.TwoSiteDMRGEngine(psi, BH0, dmrg_params)\n",
    "E, psi = eng.run()\n",
    "\n",
    "print(\"time elapsed: {:.2f}s\".format(time.time()-start))"
   ]
  },
  {
   "cell_type": "code",
   "execution_count": 14,
   "metadata": {},
   "outputs": [
    {
     "name": "stdout",
     "output_type": "stream",
     "text": [
      "Max occ: 1.0064191300944818\n",
      "Particles: 20.00001907471705\n"
     ]
    },
    {
     "data": {
      "image/png": "[encoded data removed]",
      "text/plain": [
       "<Figure size 432x288 with 1 Axes>"
      ]
     },
     "metadata": {
      "needs_background": "light"
     },
     "output_type": "display_data"
    }
   ],
   "source": [
    "# n=7\n",
    "occ_start = eng.psi.expectation_value('N')\n",
    "\n",
    "plt.plot(occ_start)\n",
    "plt.xlabel('x')\n",
    "plt.ylabel(r'$\\langle n \\rangle$')\n",
    "plt.ylim([0.9,1.2])\n",
    "print('Max occ: {}'.format(np.max(occ_start)))\n",
    "print('Particles: {}'.format(np.sum(occ_start)))"
   ]
  },
  {
   "cell_type": "code",
   "execution_count": 20,
   "metadata": {},
   "outputs": [
    {
     "name": "stderr",
     "output_type": "stream",
     "text": [
      "/jet/home/mathvr/.local/lib/python3.8/site-packages/tenpy/tools/params.py:223: UserWarning: unused options for config TEBDEngine:\n",
      "['max_error_E', 'verbose']\n",
      "  warnings.warn(msg.format(keys=sorted(unused), name=self.name))\n"
     ]
    },
    {
     "name": "stdout",
     "output_type": "stream",
     "text": [
      "run 1 of 40 finished\n",
      "run 2 of 40 finished\n",
      "run 3 of 40 finished\n",
      "run 4 of 40 finished\n",
      "run 5 of 40 finished\n",
      "run 6 of 40 finished\n",
      "run 7 of 40 finished\n",
      "run 8 of 40 finished\n",
      "run 9 of 40 finished\n",
      "run 10 of 40 finished\n",
      "run 11 of 40 finished\n",
      "run 12 of 40 finished\n",
      "run 13 of 40 finished\n",
      "run 14 of 40 finished\n",
      "run 15 of 40 finished\n",
      "run 16 of 40 finished\n",
      "run 17 of 40 finished\n",
      "run 18 of 40 finished\n",
      "run 19 of 40 finished\n",
      "run 20 of 40 finished\n",
      "run 21 of 40 finished\n",
      "run 22 of 40 finished\n",
      "run 23 of 40 finished\n",
      "run 24 of 40 finished\n",
      "run 25 of 40 finished\n",
      "run 26 of 40 finished\n",
      "run 27 of 40 finished\n",
      "run 28 of 40 finished\n",
      "run 29 of 40 finished\n",
      "run 30 of 40 finished\n",
      "run 31 of 40 finished\n",
      "run 32 of 40 finished\n",
      "run 33 of 40 finished\n",
      "run 34 of 40 finished\n",
      "run 35 of 40 finished\n",
      "run 36 of 40 finished\n",
      "run 37 of 40 finished\n",
      "run 38 of 40 finished\n",
      "run 39 of 40 finished\n",
      "run 40 of 40 finished\n"
     ]
    }
   ],
   "source": [
    "# numerical parameters TEBD\n",
    "tebd_params = { # everything for TEBD\n",
    "    'order': 4,\n",
    "    'dt': 0.1,\n",
    "    'N_steps': 5,\n",
    "    'max_error_E': 1.e-6,\n",
    "    'trunc_params': {\n",
    "        'chi_max': 300,\n",
    "        'svd_min': 1.e-7\n",
    "    },\n",
    "    'verbose': 10,\n",
    "}\n",
    "\n",
    "t_ev = 20.\n",
    "save = True\n",
    "prefix = \"/data_infinite_\"\n",
    "\n",
    "# make model with params above\n",
    "model_params = dict(L=N_site, t=J, U=U, V=V, mu=mu, bc_MPS=bc_MPS, conserve=\"N\", n_max=n_max)\n",
    "BH = BoseHubbardChain(model_params)\n",
    "\n",
    "# TEBD engine with DMRG obtained psi\n",
    "eng = tebd.TEBDEngine(psi, BH, tebd_params)\n",
    "\n",
    "# intialize data\n",
    "data = observables(eng, None)\n",
    "\n",
    "# the count and number of time steps\n",
    "i = 0;\n",
    "i_tot = int(t_ev / tebd_params[\"dt\"] / tebd_params[\"N_steps\"])\n",
    "\n",
    "start = time.time()\n",
    "\n",
    "while eng.evolved_time < t_ev:\n",
    "    \n",
    "    t_start = time.time()\n",
    "    eng.run()\n",
    "    observables(eng, data)\n",
    "\n",
    "    if save:\n",
    "      # file to save all collected data\n",
    "      suffix = \"N_\" + str(N_site) + \"_V0_\" + \"{:.2f}\".format(V0) + \"_U_\" + \"{:.2f}\".format(U) + \"_J_\" + \"{:.2f}\".format(J) + \"_T_\" + \"{:.2f}\".format(t_ev)\n",
    "      filename = prefix + suffix\n",
    "      save_obj(data,filename)\n",
    "\n",
    "\n",
    "    i += 1\n",
    "    print(\"run \" + str(i) + \" of \" + str(i_tot) + \" finished in {:.2f}s\".format(time.time()-t_start))\n",
    "    \n",
    "print(\"Full run finished in {:.2f}s\".format(time.time()-start))"
   ]
  },
  {
   "cell_type": "code",
   "execution_count": null,
   "metadata": {},
   "outputs": [],
   "source": []
  }
 ],
 "metadata": {
  "kernelspec": {
   "display_name": "Python 3",
   "language": "python",
   "name": "python3"
  },
  "language_info": {
   "codemirror_mode": {
    "name": "ipython",
    "version": 3
   },
   "file_extension": ".py",
   "mimetype": "text/x-python",
   "name": "python",
   "nbconvert_exporter": "python",
   "pygments_lexer": "ipython3",
   "version": "3.8.5"
  }
 },
 "nbformat": 4,
 "nbformat_minor": 4
}
